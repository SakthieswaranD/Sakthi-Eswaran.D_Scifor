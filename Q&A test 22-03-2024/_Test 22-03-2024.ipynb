{
 "cells": [
  {
   "cell_type": "markdown",
   "id": "924928a8",
   "metadata": {},
   "source": [
    "Hybrid Inheritance:\n",
    "Inheritance is a property of class such that one class gets the properties of another class like child class taking properties of parent.\n",
    "The inheritance which has single,multi ,multiple level inheritance is said to be a hybrid inheritance."
   ]
  },
  {
   "cell_type": "code",
   "execution_count": 1,
   "id": "3d14d854",
   "metadata": {},
   "outputs": [],
   "source": [
    "class A:#created a class A \n",
    "    def __init__(self,a,b):\n",
    "        self.a=a\n",
    "        self.b=b\n",
    "        \n",
    "    def add(self):\n",
    "        return(self.a+self.b)\n",
    "class B(A):#created class B having A class as parent(single level inheritance)\n",
    "    def sub(self):\n",
    "        return(self.a-self.b)\n",
    "class C:#created class C\n",
    "    def hello(self):\n",
    "        return('Hello')\n",
    "class D(B,C):#created class D having A and B classes as parent(multi level and multiple level inheritance)\n",
    "    def mul(self):\n",
    "        return(self.a*self.b)\n",
    "v=D(2,3)#created object v of class D\n",
    "\n",
    "     "
   ]
  },
  {
   "cell_type": "code",
   "execution_count": 2,
   "id": "3b1fddf1",
   "metadata": {},
   "outputs": [
    {
     "name": "stdout",
     "output_type": "stream",
     "text": [
      "5\n",
      "-1\n",
      "6\n",
      "Hello\n"
     ]
    }
   ],
   "source": [
    "print(v.add())\n",
    "print(v.sub())\n",
    "print(v.mul())\n",
    "print(v.hello())"
   ]
  },
  {
   "cell_type": "code",
   "execution_count": null,
   "id": "99c134aa",
   "metadata": {},
   "outputs": [],
   "source": []
  }
 ],
 "metadata": {
  "kernelspec": {
   "display_name": "Python 3 (ipykernel)",
   "language": "python",
   "name": "python3"
  },
  "language_info": {
   "codemirror_mode": {
    "name": "ipython",
    "version": 3
   },
   "file_extension": ".py",
   "mimetype": "text/x-python",
   "name": "python",
   "nbconvert_exporter": "python",
   "pygments_lexer": "ipython3",
   "version": "3.9.12"
  }
 },
 "nbformat": 4,
 "nbformat_minor": 5
}
