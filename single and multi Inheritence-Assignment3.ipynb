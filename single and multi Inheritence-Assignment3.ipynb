{
 "cells": [
  {
   "cell_type": "code",
   "execution_count": 7,
   "id": "0163f6c3",
   "metadata": {},
   "outputs": [
    {
     "name": "stdout",
     "output_type": "stream",
     "text": [
      "I am car and I have four wheeler\n",
      "Hello\n"
     ]
    }
   ],
   "source": [
    "#Single Inheritence\n",
    "class Vehicle():\n",
    "    def __init__(self,a,b):\n",
    "        self.a=a\n",
    "        self.b=b\n",
    "    def explain(self):\n",
    "        print(f'I am {self.a} and I have {self.b}')\n",
    "class B(Vehicle):\n",
    "    def hello(self):\n",
    "        print('Hello')\n",
    "c=B('car','four wheeler')\n",
    "c.explain()\n",
    "c.hello()\n"
   ]
  },
  {
   "cell_type": "code",
   "execution_count": 8,
   "id": "d0879ffe",
   "metadata": {},
   "outputs": [
    {
     "name": "stdout",
     "output_type": "stream",
     "text": [
      "I am car and I have four wheeler\n",
      "Hello\n",
      "who are you\n"
     ]
    }
   ],
   "source": [
    "#Multi Inheritence\n",
    "class Vehicle():\n",
    "    def __init__(self,a,b):\n",
    "        self.a=a\n",
    "        self.b=b\n",
    "    def explain(self):\n",
    "        print(f'I am {self.a} and I have {self.b}')\n",
    "class D(Vehicle):\n",
    "    def hello(self):\n",
    "        print('Hello')\n",
    "class B(D):\n",
    "    def ask(self):\n",
    "        print('who are you')\n",
    "c=B('car','four wheeler')\n",
    "c.explain()\n",
    "c.hello()\n",
    "c.ask()\n",
    "\n"
   ]
  },
  {
   "cell_type": "code",
   "execution_count": null,
   "id": "915735b1",
   "metadata": {},
   "outputs": [],
   "source": []
  }
 ],
 "metadata": {
  "kernelspec": {
   "display_name": "Python 3 (ipykernel)",
   "language": "python",
   "name": "python3"
  },
  "language_info": {
   "codemirror_mode": {
    "name": "ipython",
    "version": 3
   },
   "file_extension": ".py",
   "mimetype": "text/x-python",
   "name": "python",
   "nbconvert_exporter": "python",
   "pygments_lexer": "ipython3",
   "version": "3.9.12"
  }
 },
 "nbformat": 4,
 "nbformat_minor": 5
}
