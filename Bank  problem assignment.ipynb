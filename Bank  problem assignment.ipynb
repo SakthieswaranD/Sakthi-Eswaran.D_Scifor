{
 "cells": [
  {
   "cell_type": "code",
   "execution_count": 22,
   "id": "a8a7e1d7",
   "metadata": {},
   "outputs": [
    {
     "name": "stdout",
     "output_type": "stream",
     "text": [
      "1000\n",
      "11000\n",
      "500\n",
      "10500\n"
     ]
    },
    {
     "data": {
      "text/plain": [
       "10500"
      ]
     },
     "execution_count": 22,
     "metadata": {},
     "output_type": "execute_result"
    }
   ],
   "source": [
    "class Bank:\n",
    "    pin1='abcd'\n",
    "    def __init__(self,pin,withdrawam,depositam,availbalanceam):\n",
    "        if pin==Bank.pin1:\n",
    "                self.a=withdrawam\n",
    "                self.c=depositam\n",
    "                self.b=availbalanceam\n",
    "        else:\n",
    "            pass\n",
    "        \n",
    "            \n",
    "        \n",
    "    def withdrawal(self):\n",
    "        print(self.a)\n",
    "        self.b=self.b-self.a\n",
    "        print(self.b)\n",
    "    def deposit(self):\n",
    "        print(self.c)\n",
    "        self.b=self.b+self.c\n",
    "        print(self.b)\n",
    "    def balance(self):\n",
    "        return(self.b)\n",
    "A=Bank('abcd',500,1000,10000)\n",
    "A.deposit()\n",
    "A.withdrawal()\n",
    "A.balance()\n",
    "\n",
    "    \n",
    "        \n",
    "        \n",
    "    "
   ]
  },
  {
   "cell_type": "code",
   "execution_count": null,
   "id": "50d0f43f",
   "metadata": {},
   "outputs": [],
   "source": []
  }
 ],
 "metadata": {
  "kernelspec": {
   "display_name": "Python 3 (ipykernel)",
   "language": "python",
   "name": "python3"
  },
  "language_info": {
   "codemirror_mode": {
    "name": "ipython",
    "version": 3
   },
   "file_extension": ".py",
   "mimetype": "text/x-python",
   "name": "python",
   "nbconvert_exporter": "python",
   "pygments_lexer": "ipython3",
   "version": "3.9.12"
  }
 },
 "nbformat": 4,
 "nbformat_minor": 5
}
