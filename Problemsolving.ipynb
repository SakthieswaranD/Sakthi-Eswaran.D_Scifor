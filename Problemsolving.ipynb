{
 "cells": [
  {
   "cell_type": "code",
   "execution_count": null,
   "id": "3aa5b091",
   "metadata": {},
   "outputs": [],
   "source": [
    "What is the difference between list and tuple in Python?\n",
    "\n",
    "Explain the concept of PEP 8.\n",
    "\n",
    "What is the purpose of the __init__ method in Python classes?\n",
    "\n",
    "How does inheritance work in Python? Provide an example.\n",
    "\n",
    "Explain the difference between staticmethod and classmethod.\n",
    "\n",
    "What is Polymorphism in Python? Give an example.\n",
    "\n",
    "How do you handle exceptions in Python?\n",
    "\n",
    "Explain the Global Interpreter Lock (GIL) in Python.\n",
    "\n",
    "What is a decorator in Python? Provide an example.\n",
    "How do you implement encapsulation in Python?\n",
    "\n",
    "Explain the concept of duck typing.\n",
    "\n",
    "What is the difference between append() and extend() methods for lists?\n",
    "\n",
    "How does the with statement work in Python?\n",
    "\n",
    "Discuss the use of self in Python classes.\n",
    "\n",
    "Explain the purpose of the __slots__ attribute.\n",
    "\n",
    "What is the difference between an instance variable and a class variable?\n",
    "How do you implement Encapsulation, Abstraction, Polymorphism?\n",
    "How do you Implement single level Inheritance, multiple level inheritance, multi level inheritance, Hybrid Inheritance"
   ]
  },
  {
   "cell_type": "markdown",
   "id": "00fc6a57",
   "metadata": {},
   "source": [
    "1.#What is the difference between list and tuple in Python?\n",
    "List is a collection of elements of same or different datatypes.List is mutable.example for list is [1,2,34].\n",
    "whereas tuple is also a collection of elements of same or different datatype,but tuple is immutable.example for tuple is (1,2,3).\n"
   ]
  },
  {
   "cell_type": "markdown",
   "id": "c0dc6ae4",
   "metadata": {},
   "source": [
    "2.What is the purpose of the __init__ method in Python classes?\n",
    "__init__ is a constructor which is used is used to intialize all variables in the class"
   ]
  },
  {
   "cell_type": "code",
   "execution_count": null,
   "id": "1c48684d",
   "metadata": {},
   "outputs": [],
   "source": [
    "#3.How does inheritance work in Python? Provide an example.\n",
    "#Inheritance is nothing but the  accessing the class by another class or in other terms it gives the properties(methods ,variables) of one class to another.\n",
    "\n"
   ]
  },
  {
   "cell_type": "markdown",
   "id": "384d55a0",
   "metadata": {},
   "source": [
    "#4.Explain the difference between staticmethod and classmethod.\n",
    "class methods are methods in the the arguments is cls keyword.these methods are directly called by using class name.\n",
    "static methods are methods in which the arguments may be self or cls with any number of argumnets.These methods can be called by class or objects.\n"
   ]
  },
  {
   "cell_type": "code",
   "execution_count": 3,
   "id": "8acf2f09",
   "metadata": {},
   "outputs": [
    {
     "name": "stdout",
     "output_type": "stream",
     "text": [
      "4\n",
      "abcdef\n"
     ]
    }
   ],
   "source": [
    "#5.What is Polymorphism in Python? Give an example.\n",
    "#polymorphism is that the methods in a class will return different output(or) having different properties with different arguments.\n",
    "class animal:\n",
    "    def __init__(self,a,b):\n",
    "        self.a=a\n",
    "        self.b=b\n",
    "    def add(self):\n",
    "        return (self.a+self.b)\n",
    "a=animal(1,3)  \n",
    "print(a.add())\n",
    "b=animal('abc','def')\n",
    "print(b.add())\n"
   ]
  },
  {
   "cell_type": "code",
   "execution_count": 5,
   "id": "cd45bc3b",
   "metadata": {},
   "outputs": [
    {
     "name": "stdout",
     "output_type": "stream",
     "text": [
      "[1, 2, 3, [5, 5, 6]]\n",
      "[1, 2, 3, 5, 5, 6]\n"
     ]
    }
   ],
   "source": [
    "#6.What is the difference between append() and extend() methods for lists?\n",
    "#append will add the value to the list at last position whereas as extend will add the values of other list to another list\n",
    "a=[1,2,3]\n",
    "b=[5,5,6]\n",
    "a.append(b)\n",
    "print(a)\n",
    "a=[1,2,3]\n",
    "a.extend(b)\n",
    "print(a)\n"
   ]
  },
  {
   "cell_type": "code",
   "execution_count": null,
   "id": "6d9d7c5b",
   "metadata": {},
   "outputs": [],
   "source": [
    "#7.How do you implement encapsulation in Python?\n",
    "#Encapsulation is the method of wrapping up of variables and methods into single entity .Class itself a encapsulation\n",
    "#example\n",
    "class animal:\n",
    "    a=100\n",
    "    def hello(self):\n",
    "        return ('hello')\n",
    "#In the above we can see that we had encapsulated the variable and method in it.we can also encapsulated by making the members as public,private or protected which helps which objects should have the access to use this class.\n",
    "\n",
    "        "
   ]
  },
  {
   "cell_type": "code",
   "execution_count": null,
   "id": "4f041042",
   "metadata": {},
   "outputs": [],
   "source": [
    "#8.Discuss the use of self in Python classes.\n",
    "#self is used as arguments for the instance methods in the classes.self in the methods arguments implies the class itself.\n"
   ]
  },
  {
   "cell_type": "code",
   "execution_count": null,
   "id": "f967e83f",
   "metadata": {},
   "outputs": [],
   "source": [
    "#9.What is the difference between an instance variable and a class variable?\n",
    "#A variable is called as class variable which is defined outside of any methods in a class  and the variable which are defined inside any class method is instance variable."
   ]
  },
  {
   "cell_type": "markdown",
   "id": "c63af1e2",
   "metadata": {},
   "source": [
    "#10How does the with statement work in Python?\n",
    "with statements is used for file handling\n",
    "since  creating a varibale for file by,\n",
    "file=open('filename')\n",
    "we can directly use with method by\n",
    "with open('filename') as file:\n",
    "    "
   ]
  },
  {
   "cell_type": "markdown",
   "id": "7bc8dc41",
   "metadata": {},
   "source": [
    "#11.explain the purpose of slots in python.\n",
    "slots is a use to reudce the memory of the objects,It is a static type method in this no dynamic dictionary is required for allocating attribute.\n",
    "\n"
   ]
  },
  {
   "cell_type": "code",
   "execution_count": null,
   "id": "3195d21e",
   "metadata": {},
   "outputs": [],
   "source": [
    "#12.How do you implement Encapsulation, Abstraction, Polymorphism?\n",
    "#Encapsulation implementation\n",
    "class animal:\n",
    "    a=100\n",
    "    def hello(self):\n",
    "        return ('hello')\n"
   ]
  },
  {
   "cell_type": "code",
   "execution_count": null,
   "id": "5f33765e",
   "metadata": {},
   "outputs": [],
   "source": [
    "#Polymorphism implementation\n",
    "class animal:\n",
    "    def __init__(self,a,b):\n",
    "        self.a=a\n",
    "        self.b=b\n",
    "    def add(self):\n",
    "        return (self.a+self.b)\n",
    "a=animal(1,3)  #this give sum of two numbers\n",
    "print(a.add())\n",
    "b=animal('abc','def')  #This gives concatenation of two strings\n",
    "print(b.add())"
   ]
  },
  {
   "cell_type": "code",
   "execution_count": 6,
   "id": "73eaadf8",
   "metadata": {},
   "outputs": [
    {
     "data": {
      "text/plain": [
       "'Hello'"
      ]
     },
     "execution_count": 6,
     "metadata": {},
     "output_type": "execute_result"
    }
   ],
   "source": [
    "#Abstraction implementation\n",
    "\n",
    "class animal:\n",
    "    a=100\n",
    "    def hello(self):\n",
    "        pass\n",
    "class dog(animal):\n",
    "    def hello(self):\n",
    "        return(\"Hello\")\n",
    "A=dog()\n",
    "A.hello()"
   ]
  },
  {
   "cell_type": "code",
   "execution_count": null,
   "id": "2e219ebc",
   "metadata": {},
   "outputs": [],
   "source": [
    "#13.How do you Implement single level Inheritance, multiple level inheritance, multi level inheritance, Hybrid Inheritance"
   ]
  },
  {
   "cell_type": "code",
   "execution_count": 7,
   "id": "94031047",
   "metadata": {},
   "outputs": [
    {
     "data": {
      "text/plain": [
       "'hello'"
      ]
     },
     "execution_count": 7,
     "metadata": {},
     "output_type": "execute_result"
    }
   ],
   "source": [
    "#single level Inheritance implementation\n",
    "\n",
    "class animal:\n",
    "    \n",
    "    def hello(self):\n",
    "        return('hello')\n",
    "class dog(animal):\n",
    "    def Iam(self):\n",
    "        return(\"I am dog\")\n",
    "A=dog()\n",
    "A.hello()"
   ]
  },
  {
   "cell_type": "code",
   "execution_count": 9,
   "id": "b07bc1fd",
   "metadata": {},
   "outputs": [
    {
     "name": "stdout",
     "output_type": "stream",
     "text": [
      "hello, I am mike, I have pulsar bike\n",
      "I am a tall person\n",
      "pompom\n"
     ]
    }
   ],
   "source": [
    "#Multi level Inheritance implementation\n",
    "class human:\n",
    "    def __init__(self,a,b):\n",
    "        self.a=a\n",
    "        self.b=b\n",
    "    def hello(self):\n",
    "        return(f'hello, I am {self.a}, I have {self.b} bike')\n",
    "class tall(human):\n",
    "    def talk(self):\n",
    "        return(\"I am a tall person\")\n",
    "class bike(tall):\n",
    "    def sound(self):\n",
    "          return('pompom')\n",
    "    \n",
    "A=bike('mike','pulsar')\n",
    "\n",
    "print(A.hello())\n",
    "print(A.talk())\n",
    "print(A.sound())\n"
   ]
  },
  {
   "cell_type": "code",
   "execution_count": 10,
   "id": "69ba7527",
   "metadata": {},
   "outputs": [
    {
     "name": "stdout",
     "output_type": "stream",
     "text": [
      "hello, I am mike, I have pulsar bike\n",
      "I am a tall person\n",
      "I am very fat\n",
      "pompom\n"
     ]
    }
   ],
   "source": [
    "#multiple level inheritance and hybrid inheritance\n",
    "class human:\n",
    "    def __init__(self,a,b):\n",
    "        self.a=a\n",
    "        self.b=b\n",
    "    def hello(self):\n",
    "        return(f'hello, I am {self.a}, I have {self.b} bike')\n",
    "class tall(human):\n",
    "    def talk(self):\n",
    "        return(\"I am a tall person\")\n",
    "class fat(human):\n",
    "    def obese(self):\n",
    "        return('I am very fat')\n",
    "class bike(tall,fat):\n",
    "    def sound(self):\n",
    "          return('pompom')\n",
    "    \n",
    "A=bike('mike','pulsar')\n",
    "\n",
    "print(A.hello())\n",
    "print(A.talk())\n",
    "print(A.obese())\n",
    "print(A.sound())"
   ]
  },
  {
   "cell_type": "code",
   "execution_count": null,
   "id": "74917e25",
   "metadata": {},
   "outputs": [],
   "source": []
  }
 ],
 "metadata": {
  "kernelspec": {
   "display_name": "Python 3 (ipykernel)",
   "language": "python",
   "name": "python3"
  },
  "language_info": {
   "codemirror_mode": {
    "name": "ipython",
    "version": 3
   },
   "file_extension": ".py",
   "mimetype": "text/x-python",
   "name": "python",
   "nbconvert_exporter": "python",
   "pygments_lexer": "ipython3",
   "version": "3.9.12"
  }
 },
 "nbformat": 4,
 "nbformat_minor": 5
}
