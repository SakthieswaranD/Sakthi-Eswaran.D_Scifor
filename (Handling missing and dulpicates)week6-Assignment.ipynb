{
 "cells": [
  {
   "cell_type": "code",
   "execution_count": 3,
   "id": "83d66773",
   "metadata": {},
   "outputs": [
    {
     "name": "stdout",
     "output_type": "stream",
     "text": [
      "   ID             Name   Age   Salary\n",
      "0   1  James Velasquez  46.0  44484.0\n",
      "1   2   Olivia Hoffman  25.0  64503.0\n",
      "2   3   April Trujillo  56.0  75113.0\n",
      "3   4   Tiffany Powers  40.0  35249.0\n",
      "4   5     Linda Peters   NaN  49201.0\n"
     ]
    }
   ],
   "source": [
    "import pandas as pd\n",
    "import numpy as np\n",
    "from faker import Faker\n",
    "\n",
    "# Set a random seed for reproducibility\n",
    "np.random.seed(42)\n",
    "\n",
    "# Function to generate a synthetic dataset with missing values and duplicates\n",
    "def generate_dataset(num_rows=1000, missing_percentage=0.1):\n",
    "    fake = Faker()\n",
    "\n",
    "    data = {\n",
    "        'ID': np.arange(1, num_rows + 1),\n",
    "        'Name': [fake.name() for _ in range(num_rows)],\n",
    "        'Age': [np.nan if np.random.rand() < missing_percentage else np.random.randint(18, 65) for _ in range(num_rows)],\n",
    "        'Salary': [np.nan if np.random.rand() < missing_percentage else np.random.randint(30000, 100000) for _ in range(num_rows)],\n",
    "    }\n",
    "\n",
    "    df = pd.DataFrame(data)\n",
    "\n",
    "    # Introduce duplicates\n",
    "    df = pd.concat([df, df.sample(n=int(0.1*num_rows), replace=True)])\n",
    "\n",
    "    # Reset index\n",
    "    df.reset_index(drop=True, inplace=True)\n",
    "\n",
    "    return df\n",
    "\n",
    "# Generate a dataset with missing values and duplicates\n",
    "synthetic_dataset = generate_dataset()\n",
    "\n",
    "# Display the first few rows of the dataset\n",
    "print(synthetic_dataset.head())"
   ]
  },
  {
   "cell_type": "code",
   "execution_count": 22,
   "id": "5ccd4285",
   "metadata": {},
   "outputs": [],
   "source": [
    "import seaborn as sns"
   ]
  },
  {
   "cell_type": "code",
   "execution_count": 2,
   "id": "21de3d6f",
   "metadata": {},
   "outputs": [
    {
     "name": "stdout",
     "output_type": "stream",
     "text": [
      "Collecting faker\n",
      "  Downloading Faker-22.6.0-py3-none-any.whl (1.7 MB)\n",
      "Requirement already satisfied: python-dateutil>=2.4 in c:\\users\\sakth\\anaconda3\\lib\\site-packages (from faker) (2.8.2)\n",
      "Requirement already satisfied: six>=1.5 in c:\\users\\sakth\\anaconda3\\lib\\site-packages (from python-dateutil>=2.4->faker) (1.16.0)\n",
      "Installing collected packages: faker\n",
      "Successfully installed faker-22.6.0\n",
      "Note: you may need to restart the kernel to use updated packages.\n"
     ]
    }
   ],
   "source": [
    "pip install faker"
   ]
  },
  {
   "cell_type": "code",
   "execution_count": 4,
   "id": "f18258fb",
   "metadata": {},
   "outputs": [],
   "source": [
    "df=synthetic_dataset\n"
   ]
  },
  {
   "cell_type": "code",
   "execution_count": 5,
   "id": "f3857610",
   "metadata": {
    "scrolled": true
   },
   "outputs": [
    {
     "data": {
      "text/html": [
       "<div>\n",
       "<style scoped>\n",
       "    .dataframe tbody tr th:only-of-type {\n",
       "        vertical-align: middle;\n",
       "    }\n",
       "\n",
       "    .dataframe tbody tr th {\n",
       "        vertical-align: top;\n",
       "    }\n",
       "\n",
       "    .dataframe thead th {\n",
       "        text-align: right;\n",
       "    }\n",
       "</style>\n",
       "<table border=\"1\" class=\"dataframe\">\n",
       "  <thead>\n",
       "    <tr style=\"text-align: right;\">\n",
       "      <th></th>\n",
       "      <th>ID</th>\n",
       "      <th>Name</th>\n",
       "      <th>Age</th>\n",
       "      <th>Salary</th>\n",
       "    </tr>\n",
       "  </thead>\n",
       "  <tbody>\n",
       "    <tr>\n",
       "      <th>0</th>\n",
       "      <td>1</td>\n",
       "      <td>James Velasquez</td>\n",
       "      <td>46.0</td>\n",
       "      <td>44484.0</td>\n",
       "    </tr>\n",
       "    <tr>\n",
       "      <th>1</th>\n",
       "      <td>2</td>\n",
       "      <td>Olivia Hoffman</td>\n",
       "      <td>25.0</td>\n",
       "      <td>64503.0</td>\n",
       "    </tr>\n",
       "    <tr>\n",
       "      <th>2</th>\n",
       "      <td>3</td>\n",
       "      <td>April Trujillo</td>\n",
       "      <td>56.0</td>\n",
       "      <td>75113.0</td>\n",
       "    </tr>\n",
       "    <tr>\n",
       "      <th>3</th>\n",
       "      <td>4</td>\n",
       "      <td>Tiffany Powers</td>\n",
       "      <td>40.0</td>\n",
       "      <td>35249.0</td>\n",
       "    </tr>\n",
       "    <tr>\n",
       "      <th>4</th>\n",
       "      <td>5</td>\n",
       "      <td>Linda Peters</td>\n",
       "      <td>NaN</td>\n",
       "      <td>49201.0</td>\n",
       "    </tr>\n",
       "    <tr>\n",
       "      <th>...</th>\n",
       "      <td>...</td>\n",
       "      <td>...</td>\n",
       "      <td>...</td>\n",
       "      <td>...</td>\n",
       "    </tr>\n",
       "    <tr>\n",
       "      <th>1095</th>\n",
       "      <td>936</td>\n",
       "      <td>Anthony Dixon</td>\n",
       "      <td>19.0</td>\n",
       "      <td>85612.0</td>\n",
       "    </tr>\n",
       "    <tr>\n",
       "      <th>1096</th>\n",
       "      <td>811</td>\n",
       "      <td>Brian King</td>\n",
       "      <td>61.0</td>\n",
       "      <td>85276.0</td>\n",
       "    </tr>\n",
       "    <tr>\n",
       "      <th>1097</th>\n",
       "      <td>150</td>\n",
       "      <td>Sarah Clark</td>\n",
       "      <td>48.0</td>\n",
       "      <td>81612.0</td>\n",
       "    </tr>\n",
       "    <tr>\n",
       "      <th>1098</th>\n",
       "      <td>660</td>\n",
       "      <td>Karen Fox</td>\n",
       "      <td>NaN</td>\n",
       "      <td>85745.0</td>\n",
       "    </tr>\n",
       "    <tr>\n",
       "      <th>1099</th>\n",
       "      <td>8</td>\n",
       "      <td>Joshua Williams</td>\n",
       "      <td>NaN</td>\n",
       "      <td>90963.0</td>\n",
       "    </tr>\n",
       "  </tbody>\n",
       "</table>\n",
       "<p>1100 rows × 4 columns</p>\n",
       "</div>"
      ],
      "text/plain": [
       "       ID             Name   Age   Salary\n",
       "0       1  James Velasquez  46.0  44484.0\n",
       "1       2   Olivia Hoffman  25.0  64503.0\n",
       "2       3   April Trujillo  56.0  75113.0\n",
       "3       4   Tiffany Powers  40.0  35249.0\n",
       "4       5     Linda Peters   NaN  49201.0\n",
       "...   ...              ...   ...      ...\n",
       "1095  936    Anthony Dixon  19.0  85612.0\n",
       "1096  811       Brian King  61.0  85276.0\n",
       "1097  150      Sarah Clark  48.0  81612.0\n",
       "1098  660        Karen Fox   NaN  85745.0\n",
       "1099    8  Joshua Williams   NaN  90963.0\n",
       "\n",
       "[1100 rows x 4 columns]"
      ]
     },
     "execution_count": 5,
     "metadata": {},
     "output_type": "execute_result"
    }
   ],
   "source": [
    "df"
   ]
  },
  {
   "cell_type": "code",
   "execution_count": 13,
   "id": "8530f922",
   "metadata": {
    "scrolled": true
   },
   "outputs": [
    {
     "data": {
      "text/html": [
       "<div>\n",
       "<style scoped>\n",
       "    .dataframe tbody tr th:only-of-type {\n",
       "        vertical-align: middle;\n",
       "    }\n",
       "\n",
       "    .dataframe tbody tr th {\n",
       "        vertical-align: top;\n",
       "    }\n",
       "\n",
       "    .dataframe thead th {\n",
       "        text-align: right;\n",
       "    }\n",
       "</style>\n",
       "<table border=\"1\" class=\"dataframe\">\n",
       "  <thead>\n",
       "    <tr style=\"text-align: right;\">\n",
       "      <th></th>\n",
       "      <th>ID</th>\n",
       "      <th>Age</th>\n",
       "      <th>Salary</th>\n",
       "    </tr>\n",
       "  </thead>\n",
       "  <tbody>\n",
       "    <tr>\n",
       "      <th>count</th>\n",
       "      <td>1100.000000</td>\n",
       "      <td>982.000000</td>\n",
       "      <td>980.000000</td>\n",
       "    </tr>\n",
       "    <tr>\n",
       "      <th>mean</th>\n",
       "      <td>504.134545</td>\n",
       "      <td>41.345214</td>\n",
       "      <td>64843.108163</td>\n",
       "    </tr>\n",
       "    <tr>\n",
       "      <th>std</th>\n",
       "      <td>290.176364</td>\n",
       "      <td>13.794397</td>\n",
       "      <td>20588.985076</td>\n",
       "    </tr>\n",
       "    <tr>\n",
       "      <th>min</th>\n",
       "      <td>1.000000</td>\n",
       "      <td>18.000000</td>\n",
       "      <td>30112.000000</td>\n",
       "    </tr>\n",
       "    <tr>\n",
       "      <th>25%</th>\n",
       "      <td>250.750000</td>\n",
       "      <td>29.000000</td>\n",
       "      <td>46963.500000</td>\n",
       "    </tr>\n",
       "    <tr>\n",
       "      <th>50%</th>\n",
       "      <td>508.500000</td>\n",
       "      <td>42.000000</td>\n",
       "      <td>64557.500000</td>\n",
       "    </tr>\n",
       "    <tr>\n",
       "      <th>75%</th>\n",
       "      <td>755.250000</td>\n",
       "      <td>53.750000</td>\n",
       "      <td>82893.000000</td>\n",
       "    </tr>\n",
       "    <tr>\n",
       "      <th>max</th>\n",
       "      <td>1000.000000</td>\n",
       "      <td>64.000000</td>\n",
       "      <td>99906.000000</td>\n",
       "    </tr>\n",
       "  </tbody>\n",
       "</table>\n",
       "</div>"
      ],
      "text/plain": [
       "                ID         Age        Salary\n",
       "count  1100.000000  982.000000    980.000000\n",
       "mean    504.134545   41.345214  64843.108163\n",
       "std     290.176364   13.794397  20588.985076\n",
       "min       1.000000   18.000000  30112.000000\n",
       "25%     250.750000   29.000000  46963.500000\n",
       "50%     508.500000   42.000000  64557.500000\n",
       "75%     755.250000   53.750000  82893.000000\n",
       "max    1000.000000   64.000000  99906.000000"
      ]
     },
     "execution_count": 13,
     "metadata": {},
     "output_type": "execute_result"
    }
   ],
   "source": [
    "df.describe()"
   ]
  },
  {
   "cell_type": "code",
   "execution_count": 16,
   "id": "4ae42571",
   "metadata": {},
   "outputs": [
    {
     "data": {
      "text/plain": [
       "ID          int32\n",
       "Name       object\n",
       "Age       float64\n",
       "Salary    float64\n",
       "dtype: object"
      ]
     },
     "execution_count": 16,
     "metadata": {},
     "output_type": "execute_result"
    }
   ],
   "source": [
    "df.dtypes"
   ]
  },
  {
   "cell_type": "code",
   "execution_count": 18,
   "id": "1fea7e52",
   "metadata": {},
   "outputs": [
    {
     "data": {
      "text/plain": [
       "100"
      ]
     },
     "execution_count": 18,
     "metadata": {},
     "output_type": "execute_result"
    }
   ],
   "source": [
    "df.duplicated().sum()"
   ]
  },
  {
   "cell_type": "code",
   "execution_count": 10,
   "id": "8140adc3",
   "metadata": {},
   "outputs": [
    {
     "data": {
      "text/plain": [
       "0"
      ]
     },
     "execution_count": 10,
     "metadata": {},
     "output_type": "execute_result"
    }
   ],
   "source": [
    "df['Name'].isnull().sum()"
   ]
  },
  {
   "cell_type": "code",
   "execution_count": 11,
   "id": "2220166c",
   "metadata": {},
   "outputs": [
    {
     "data": {
      "text/plain": [
       "118"
      ]
     },
     "execution_count": 11,
     "metadata": {},
     "output_type": "execute_result"
    }
   ],
   "source": [
    "df['Age'].isnull().sum()"
   ]
  },
  {
   "cell_type": "code",
   "execution_count": 12,
   "id": "95bcf85e",
   "metadata": {},
   "outputs": [
    {
     "data": {
      "text/plain": [
       "120"
      ]
     },
     "execution_count": 12,
     "metadata": {},
     "output_type": "execute_result"
    }
   ],
   "source": [
    "df['Salary'].isnull().sum()"
   ]
  },
  {
   "cell_type": "code",
   "execution_count": null,
   "id": "e1821aa4",
   "metadata": {},
   "outputs": [],
   "source": [
    "#first remove the duplicate rows"
   ]
  },
  {
   "cell_type": "code",
   "execution_count": 21,
   "id": "08a35ad4",
   "metadata": {},
   "outputs": [
    {
     "data": {
      "text/html": [
       "<div>\n",
       "<style scoped>\n",
       "    .dataframe tbody tr th:only-of-type {\n",
       "        vertical-align: middle;\n",
       "    }\n",
       "\n",
       "    .dataframe tbody tr th {\n",
       "        vertical-align: top;\n",
       "    }\n",
       "\n",
       "    .dataframe thead th {\n",
       "        text-align: right;\n",
       "    }\n",
       "</style>\n",
       "<table border=\"1\" class=\"dataframe\">\n",
       "  <thead>\n",
       "    <tr style=\"text-align: right;\">\n",
       "      <th></th>\n",
       "      <th>ID</th>\n",
       "      <th>Name</th>\n",
       "      <th>Age</th>\n",
       "      <th>Salary</th>\n",
       "    </tr>\n",
       "  </thead>\n",
       "  <tbody>\n",
       "    <tr>\n",
       "      <th>0</th>\n",
       "      <td>1</td>\n",
       "      <td>James Velasquez</td>\n",
       "      <td>46.0</td>\n",
       "      <td>44484.0</td>\n",
       "    </tr>\n",
       "    <tr>\n",
       "      <th>1</th>\n",
       "      <td>2</td>\n",
       "      <td>Olivia Hoffman</td>\n",
       "      <td>25.0</td>\n",
       "      <td>64503.0</td>\n",
       "    </tr>\n",
       "    <tr>\n",
       "      <th>2</th>\n",
       "      <td>3</td>\n",
       "      <td>April Trujillo</td>\n",
       "      <td>56.0</td>\n",
       "      <td>75113.0</td>\n",
       "    </tr>\n",
       "    <tr>\n",
       "      <th>3</th>\n",
       "      <td>4</td>\n",
       "      <td>Tiffany Powers</td>\n",
       "      <td>40.0</td>\n",
       "      <td>35249.0</td>\n",
       "    </tr>\n",
       "    <tr>\n",
       "      <th>4</th>\n",
       "      <td>5</td>\n",
       "      <td>Linda Peters</td>\n",
       "      <td>NaN</td>\n",
       "      <td>49201.0</td>\n",
       "    </tr>\n",
       "    <tr>\n",
       "      <th>...</th>\n",
       "      <td>...</td>\n",
       "      <td>...</td>\n",
       "      <td>...</td>\n",
       "      <td>...</td>\n",
       "    </tr>\n",
       "    <tr>\n",
       "      <th>995</th>\n",
       "      <td>996</td>\n",
       "      <td>Sharon Hunt</td>\n",
       "      <td>50.0</td>\n",
       "      <td>53993.0</td>\n",
       "    </tr>\n",
       "    <tr>\n",
       "      <th>996</th>\n",
       "      <td>997</td>\n",
       "      <td>Jessica George</td>\n",
       "      <td>58.0</td>\n",
       "      <td>76287.0</td>\n",
       "    </tr>\n",
       "    <tr>\n",
       "      <th>997</th>\n",
       "      <td>998</td>\n",
       "      <td>Joan Robinson</td>\n",
       "      <td>30.0</td>\n",
       "      <td>38210.0</td>\n",
       "    </tr>\n",
       "    <tr>\n",
       "      <th>998</th>\n",
       "      <td>999</td>\n",
       "      <td>Amy Cooper</td>\n",
       "      <td>19.0</td>\n",
       "      <td>63340.0</td>\n",
       "    </tr>\n",
       "    <tr>\n",
       "      <th>999</th>\n",
       "      <td>1000</td>\n",
       "      <td>Rachel Ramsey</td>\n",
       "      <td>61.0</td>\n",
       "      <td>41094.0</td>\n",
       "    </tr>\n",
       "  </tbody>\n",
       "</table>\n",
       "<p>1000 rows × 4 columns</p>\n",
       "</div>"
      ],
      "text/plain": [
       "       ID             Name   Age   Salary\n",
       "0       1  James Velasquez  46.0  44484.0\n",
       "1       2   Olivia Hoffman  25.0  64503.0\n",
       "2       3   April Trujillo  56.0  75113.0\n",
       "3       4   Tiffany Powers  40.0  35249.0\n",
       "4       5     Linda Peters   NaN  49201.0\n",
       "..    ...              ...   ...      ...\n",
       "995   996      Sharon Hunt  50.0  53993.0\n",
       "996   997   Jessica George  58.0  76287.0\n",
       "997   998    Joan Robinson  30.0  38210.0\n",
       "998   999       Amy Cooper  19.0  63340.0\n",
       "999  1000    Rachel Ramsey  61.0  41094.0\n",
       "\n",
       "[1000 rows x 4 columns]"
      ]
     },
     "execution_count": 21,
     "metadata": {},
     "output_type": "execute_result"
    }
   ],
   "source": [
    "df=df[~df.duplicated()]\n",
    "df"
   ]
  },
  {
   "cell_type": "code",
   "execution_count": 24,
   "id": "09c0af1e",
   "metadata": {},
   "outputs": [
    {
     "data": {
      "text/plain": [
       "<AxesSubplot:xlabel='Age', ylabel='Salary'>"
      ]
     },
     "execution_count": 24,
     "metadata": {},
     "output_type": "execute_result"
    },
    {
     "data": {
      "image/png": "[encoded data removed]",
      "text/plain": [
       "<Figure size 432x288 with 1 Axes>"
      ]
     },
     "metadata": {
      "needs_background": "light"
     },
     "output_type": "display_data"
    }
   ],
   "source": [
    "#Let fill the missing values\n",
    "sns.lineplot(data=df,x='Age',y='Salary')"
   ]
  },
  {
   "cell_type": "code",
   "execution_count": 29,
   "id": "2a20326b",
   "metadata": {},
   "outputs": [
    {
     "name": "stderr",
     "output_type": "stream",
     "text": [
      "C:\\Users\\sakth\\AppData\\Local\\Temp\\ipykernel_17220\\957142738.py:2: SettingWithCopyWarning: \n",
      "A value is trying to be set on a copy of a slice from a DataFrame.\n",
      "Try using .loc[row_indexer,col_indexer] = value instead\n",
      "\n",
      "See the caveats in the documentation: https://pandas.pydata.org/pandas-docs/stable/user_guide/indexing.html#returning-a-view-versus-a-copy\n",
      "  df['Age']=df['Age'].fillna(df['Age'].mean())\n"
     ]
    }
   ],
   "source": [
    "#there is no linear relationbetween columns age and Salary let we them based on the values of  own columns alone using mean\n",
    "df['Age']=df['Age'].fillna(df['Age'].mean())"
   ]
  },
  {
   "cell_type": "code",
   "execution_count": 30,
   "id": "2f124817",
   "metadata": {},
   "outputs": [
    {
     "data": {
      "text/plain": [
       "0"
      ]
     },
     "execution_count": 30,
     "metadata": {},
     "output_type": "execute_result"
    }
   ],
   "source": [
    "df['Age'].isnull().sum()"
   ]
  },
  {
   "cell_type": "code",
   "execution_count": 31,
   "id": "cfb9d7a8",
   "metadata": {},
   "outputs": [
    {
     "name": "stderr",
     "output_type": "stream",
     "text": [
      "C:\\Users\\sakth\\AppData\\Local\\Temp\\ipykernel_17220\\848608217.py:1: SettingWithCopyWarning: \n",
      "A value is trying to be set on a copy of a slice from a DataFrame.\n",
      "Try using .loc[row_indexer,col_indexer] = value instead\n",
      "\n",
      "See the caveats in the documentation: https://pandas.pydata.org/pandas-docs/stable/user_guide/indexing.html#returning-a-view-versus-a-copy\n",
      "  df['Salary']=df['Salary'].fillna(df['Salary'].mean())\n"
     ]
    }
   ],
   "source": [
    "df['Salary']=df['Salary'].fillna(df['Salary'].mean())"
   ]
  },
  {
   "cell_type": "code",
   "execution_count": null,
   "id": "e3c6f8d0",
   "metadata": {},
   "outputs": [],
   "source": []
  }
 ],
 "metadata": {
  "kernelspec": {
   "display_name": "Python 3 (ipykernel)",
   "language": "python",
   "name": "python3"
  },
  "language_info": {
   "codemirror_mode": {
    "name": "ipython",
    "version": 3
   },
   "file_extension": ".py",
   "mimetype": "text/x-python",
   "name": "python",
   "nbconvert_exporter": "python",
   "pygments_lexer": "ipython3",
   "version": "3.9.12"
  }
 },
 "nbformat": 4,
 "nbformat_minor": 5
}
