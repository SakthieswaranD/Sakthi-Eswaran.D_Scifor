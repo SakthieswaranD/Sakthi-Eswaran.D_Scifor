{
 "cells": [
  {
   "cell_type": "code",
   "execution_count": 89,
   "id": "fa6b2ef1",
   "metadata": {},
   "outputs": [
    {
     "data": {
      "text/plain": [
       "[1, 2, 4]"
      ]
     },
     "execution_count": 89,
     "metadata": {},
     "output_type": "execute_result"
    }
   ],
   "source": [
    "#plus one\n",
    "class Solution:\n",
    "    def plusOne(self, digits: list[int]) -> list[int]:\n",
    "        \n",
    "               b=[str(i) for i in digits]\n",
    "               c=int(''.join(b))+1\n",
    "               c=str(c)\n",
    "               c=[int(i) for i in c]\n",
    "               return(c)\n",
    "a=Solution()\n",
    "a.plusOne([1,2,3])"
   ]
  },
  {
   "cell_type": "code",
   "execution_count": 92,
   "id": "44b0ca7f",
   "metadata": {},
   "outputs": [
    {
     "data": {
      "text/plain": [
       "5"
      ]
     },
     "execution_count": 92,
     "metadata": {},
     "output_type": "execute_result"
    }
   ],
   "source": [
    "#28.Find the index of the first occurence in the string\n",
    "class Solution:\n",
    "    def strStr(self, a: str, b: str) -> int:\n",
    "        c=0\n",
    "        for i in range(0,len(a)-len(b)+1):\n",
    "                    if a[i:i+len(b)]==b:\n",
    "                            return(i)\n",
    "                            c=c+1\n",
    "        if c==0:\n",
    "            return(-1)\n",
    "a=Solution()\n",
    "a.strStr('abgbjabc','abc')"
   ]
  },
  {
   "cell_type": "code",
   "execution_count": 93,
   "id": "846eba8a",
   "metadata": {},
   "outputs": [
    {
     "name": "stdout",
     "output_type": "stream",
     "text": [
      "True\n",
      "False\n"
     ]
    }
   ],
   "source": [
    "#242 Valid anogram\n",
    "class Solution:\n",
    "    def isAnagram(self, s: str, t: str) -> bool:\n",
    "        if len(s)!=len(t):\n",
    "            return(False)\n",
    "        elif sorted(s)==sorted(t):\n",
    "              return(True)\n",
    "        else:    \n",
    "            return(False)\n",
    "a=Solution()\n",
    "print(a.isAnagram('abcd','cdba'))\n",
    "print(a.isAnagram('abcd','abba'))"
   ]
  },
  {
   "cell_type": "code",
   "execution_count": 94,
   "id": "a740710f",
   "metadata": {},
   "outputs": [
    {
     "name": "stdout",
     "output_type": "stream",
     "text": [
      "True\n",
      "False\n"
     ]
    }
   ],
   "source": [
    "#Repeated substring pattern\n",
    "class Solution:\n",
    "    def rsp(self, s: str) -> bool:\n",
    "    \n",
    "                c=[]\n",
    "                for i in range(1,(len(s)//2)+1):\n",
    "                            if len(s)%i==0:\n",
    "                                c.append(i)\n",
    "                for i in c:\n",
    "                    k=s[0:i]*(int(len(s)/i))\n",
    "                    if k==s:\n",
    "                        return(True)\n",
    "                        break\n",
    "                else:\n",
    "                    return(False)\n",
    "a=Solution()\n",
    "print(a.rsp('ababab'))\n",
    "print(a.rsp('aba'))"
   ]
  },
  {
   "cell_type": "code",
   "execution_count": 95,
   "id": "33885ab1",
   "metadata": {},
   "outputs": [
    {
     "data": {
      "text/plain": [
       "'a'"
      ]
     },
     "execution_count": 95,
     "metadata": {},
     "output_type": "execute_result"
    }
   ],
   "source": [
    "#389.Find the difference\n",
    "class Solution:\n",
    "    def findTheDifference(self, s: str, t: str) -> str:\n",
    "                        \n",
    "                         for i in set(t):\n",
    "                                if t.count(i)!=s.count(i):\n",
    "                                        return(i)\n",
    "a=Solution()\n",
    "a.findTheDifference('asghe','ghesaa')"
   ]
  },
  {
   "cell_type": "code",
   "execution_count": 96,
   "id": "c6ad87b2",
   "metadata": {},
   "outputs": [
    {
     "name": "stdout",
     "output_type": "stream",
     "text": [
      "1\n",
      "-1\n"
     ]
    }
   ],
   "source": [
    "#1822.Sign product of an array\n",
    "class Solution:\n",
    "    def arraySign(self, nums: list[int]) -> int:\n",
    "        c=1\n",
    "        for i in nums:\n",
    "                c=c*i\n",
    "        if c>0:\n",
    "            return(1)\n",
    "        elif c<0:\n",
    "            return(-1)\n",
    "        else:\n",
    "            return(0)\n",
    "a=Solution()\n",
    "print(a.arraySign([1,2,3,4]))\n",
    "print(a.arraySign([-1,-3,-4,5]))\n"
   ]
  },
  {
   "cell_type": "code",
   "execution_count": 98,
   "id": "8666b47d",
   "metadata": {},
   "outputs": [
    {
     "name": "stdout",
     "output_type": "stream",
     "text": [
      "True\n",
      "False\n"
     ]
    }
   ],
   "source": [
    "#1503.Can make arithmetic progression\n",
    "class Solution:\n",
    "    def cmap(self, a: list[int]) -> bool:\n",
    "        a.sort()\n",
    "        b=a[1]-a[0]\n",
    "        for i in range(1,len(a)):\n",
    "                if (a[i]-a[i-1])!=b:\n",
    "                    return(False)\n",
    "                    break\n",
    "        else:\n",
    "             return(True)\n",
    "a=Solution()\n",
    "print(a.cmap([1,2,3,4,5]))\n",
    "print(a.cmap([1,2,5,8]))"
   ]
  },
  {
   "cell_type": "code",
   "execution_count": 99,
   "id": "3da821c4",
   "metadata": {},
   "outputs": [
    {
     "name": "stdout",
     "output_type": "stream",
     "text": [
      "True\n",
      "False\n"
     ]
    }
   ],
   "source": [
    "#896.Monotonic Array\n",
    "class Solution:\n",
    "    def isMonotonic(self, a: list[int]) -> bool:\n",
    "        b=[]\n",
    "        for i in range(1,len(a)):\n",
    "            if a[i]>a[i-1]:\n",
    "                b.append('>')\n",
    "            elif a[i]==a[i-1]:\n",
    "                b.append('.')\n",
    "            else:\n",
    "                b.append('<')\n",
    "        if ('>'in b) and ('<'in b):\n",
    "                 return(False)\n",
    "        else:\n",
    "            return(True)\n",
    "a=Solution()\n",
    "print(a.isMonotonic([1,1,1,2]))\n",
    "print(a.isMonotonic([-2,-3,-2]))\n"
   ]
  },
  {
   "cell_type": "code",
   "execution_count": 100,
   "id": "8bf25db3",
   "metadata": {},
   "outputs": [
    {
     "data": {
      "text/plain": [
       "394"
      ]
     },
     "execution_count": 100,
     "metadata": {},
     "output_type": "execute_result"
    }
   ],
   "source": [
    "#13.Roman to integer\n",
    "class Solution:\n",
    "  def romanToInt(self, s: str) -> int:\n",
    "    an = 0\n",
    "    r = {'I': 1, 'V': 5, 'X': 10, 'L': 50,\n",
    "             'C': 100, 'D': 500, 'M': 1000}\n",
    "\n",
    "    for a, b in zip(s, s[1:]):\n",
    "      if r[a] < r[b]:\n",
    "        an -= r[a]\n",
    "      else:\n",
    "        an += r[a]\n",
    "\n",
    "    return an + r[s[-1]]\n",
    "a=Solution()\n",
    "a.romanToInt('IVCDM')"
   ]
  },
  {
   "cell_type": "code",
   "execution_count": 103,
   "id": "33861b84",
   "metadata": {},
   "outputs": [
    {
     "data": {
      "text/plain": [
       "'aebfcgkkj'"
      ]
     },
     "execution_count": 103,
     "metadata": {},
     "output_type": "execute_result"
    }
   ],
   "source": [
    "#1768.Merge Strings alternatively\n",
    "class Solution:\n",
    "    def mergeAlternately(self, a: str, b: str) -> str:\n",
    "        c=' '\n",
    "        if len(a)>len(b):\n",
    "            for i in range(len(b)):\n",
    "                c=c+a[i]+b[i]\n",
    "            c=c+a[len(b):]\n",
    "        elif len(b)>len(a):\n",
    "             for i in range(len(a)):\n",
    "                c=c+a[i]+b[i]\n",
    "             c=c+b[len(a):]\n",
    "        else:\n",
    "             for i in range(len(a)):\n",
    "                c=c+a[i]+b[i]\n",
    "               \n",
    "        return(c[1:])\n",
    "a=Solution()\n",
    "a.mergeAlternately('abc','efgkkj')"
   ]
  },
  {
   "cell_type": "code",
   "execution_count": 104,
   "id": "0c2dac59",
   "metadata": {},
   "outputs": [],
   "source": [
    "#283.Move Zeroes\n",
    "class Solution:\n",
    "    def moveZeroes(self, nums: list[int]) -> None:\n",
    "                        k = 0\n",
    "                        for i in nums:\n",
    "                             if i!= 0:\n",
    "                                nums[k] = i\n",
    "                                k += 1\n",
    "\n",
    "                        for i in range(k, len(nums)):\n",
    "                                     nums[i] = 0"
   ]
  },
  {
   "cell_type": "code",
   "execution_count": null,
   "id": "3faab39b",
   "metadata": {},
   "outputs": [],
   "source": []
  },
  {
   "cell_type": "code",
   "execution_count": null,
   "id": "b399ee7f",
   "metadata": {},
   "outputs": [],
   "source": []
  },
  {
   "cell_type": "code",
   "execution_count": null,
   "id": "7373bf8c",
   "metadata": {},
   "outputs": [],
   "source": []
  },
  {
   "cell_type": "code",
   "execution_count": null,
   "id": "27f83f10",
   "metadata": {},
   "outputs": [],
   "source": []
  },
  {
   "cell_type": "code",
   "execution_count": null,
   "id": "1edcaffc",
   "metadata": {},
   "outputs": [],
   "source": []
  },
  {
   "cell_type": "code",
   "execution_count": null,
   "id": "f18fdda4",
   "metadata": {},
   "outputs": [],
   "source": []
  }
 ],
 "metadata": {
  "kernelspec": {
   "display_name": "Python 3 (ipykernel)",
   "language": "python",
   "name": "python3"
  },
  "language_info": {
   "codemirror_mode": {
    "name": "ipython",
    "version": 3
   },
   "file_extension": ".py",
   "mimetype": "text/x-python",
   "name": "python",
   "nbconvert_exporter": "python",
   "pygments_lexer": "ipython3",
   "version": "3.9.12"
  }
 },
 "nbformat": 4,
 "nbformat_minor": 5
}
