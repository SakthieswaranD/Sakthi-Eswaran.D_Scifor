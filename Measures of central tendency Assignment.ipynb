{
 "cells": [
  {
   "cell_type": "markdown",
   "id": "36247de1",
   "metadata": {},
   "source": [
    "#Measures of central Tendency for a given data"
   ]
  },
  {
   "cell_type": "code",
   "execution_count": 1,
   "id": "8ec519a1",
   "metadata": {},
   "outputs": [
    {
     "data": {
      "text/plain": [
       "13.692307692307692"
      ]
     },
     "execution_count": 1,
     "metadata": {},
     "output_type": "execute_result"
    }
   ],
   "source": [
    "#Mean(It is the sum of all given numbers(data) divide by the total number observation)\n",
    "import numpy as np\n",
    "a=[1,2,3,4,5,6,76,53,7,4,5,6,6]\n",
    "np.mean(a)"
   ]
  },
  {
   "cell_type": "code",
   "execution_count": 2,
   "id": "c0b92c61",
   "metadata": {},
   "outputs": [
    {
     "data": {
      "text/plain": [
       "5"
      ]
     },
     "execution_count": 2,
     "metadata": {},
     "output_type": "execute_result"
    }
   ],
   "source": [
    "#median(It is the  middlest term or number when the given numbers are arranged in ascending or decsending order)\n",
    "import statistics\n",
    "a=[1,2,3,4,5,6,76,53,7,4,5,6,6]\n",
    "statistics.median(a)\n"
   ]
  },
  {
   "cell_type": "code",
   "execution_count": 3,
   "id": "c7c09c27",
   "metadata": {},
   "outputs": [
    {
     "data": {
      "text/plain": [
       "6"
      ]
     },
     "execution_count": 3,
     "metadata": {},
     "output_type": "execute_result"
    }
   ],
   "source": [
    "#Mode(It is the number which is repeated most times in the given data)\n",
    "import statistics\n",
    "a=[1,2,3,4,5,6,76,53,7,4,5,6,6]\n",
    "statistics.mode(a)\n"
   ]
  },
  {
   "cell_type": "markdown",
   "id": "bf1e6542",
   "metadata": {},
   "source": [
    "#Measures of Dispersion"
   ]
  },
  {
   "cell_type": "code",
   "execution_count": 4,
   "id": "3bd19962",
   "metadata": {},
   "outputs": [
    {
     "name": "stdout",
     "output_type": "stream",
     "text": [
      "75\n"
     ]
    }
   ],
   "source": [
    "#Range(Diffrence of the highest and the lowest value in the data)\n",
    "a=[1,2,3,4,5,6,76,53,7,4,5,6,6]\n",
    "range=max(a)-min(a)\n",
    "print(range)\n"
   ]
  },
  {
   "cell_type": "code",
   "execution_count": 5,
   "id": "9f6a1a65",
   "metadata": {},
   "outputs": [
    {
     "data": {
      "text/plain": [
       "533.3974358974359"
      ]
     },
     "execution_count": 5,
     "metadata": {},
     "output_type": "execute_result"
    }
   ],
   "source": [
    "#Variance(It is the totalsum of difference of each number from the mean divide by total number of observations )\n",
    "import statistics\n",
    "a=[1,2,3,4,5,6,76,53,7,4,5,6,6]\n",
    "statistics.variance(a)\n"
   ]
  },
  {
   "cell_type": "code",
   "execution_count": 6,
   "id": "4ef691b4",
   "metadata": {},
   "outputs": [
    {
     "data": {
      "text/plain": [
       "22.18934122287828"
      ]
     },
     "execution_count": 6,
     "metadata": {},
     "output_type": "execute_result"
    }
   ],
   "source": [
    "#standard deviation(square root of variance)\n",
    "import statistics\n",
    "a=[1,2,3,4,5,6,76,53,7,4,5,6,6]\n",
    "np.std(a)"
   ]
  },
  {
   "cell_type": "code",
   "execution_count": null,
   "id": "590e45f2",
   "metadata": {},
   "outputs": [],
   "source": []
  }
 ],
 "metadata": {
  "kernelspec": {
   "display_name": "Python 3 (ipykernel)",
   "language": "python",
   "name": "python3"
  },
  "language_info": {
   "codemirror_mode": {
    "name": "ipython",
    "version": 3
   },
   "file_extension": ".py",
   "mimetype": "text/x-python",
   "name": "python",
   "nbconvert_exporter": "python",
   "pygments_lexer": "ipython3",
   "version": "3.9.12"
  }
 },
 "nbformat": 4,
 "nbformat_minor": 5
}
