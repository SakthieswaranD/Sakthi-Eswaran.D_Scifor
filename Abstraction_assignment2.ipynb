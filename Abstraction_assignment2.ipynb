{
 "cells": [
  {
   "cell_type": "code",
   "execution_count": 3,
   "id": "c7be832c",
   "metadata": {},
   "outputs": [
    {
     "name": "stdout",
     "output_type": "stream",
     "text": [
      "Hello1\n",
      "Hello4\n",
      "Hello3\n",
      "Hello4\n"
     ]
    }
   ],
   "source": [
    "\n",
    "# abstract base class work \n",
    "from abc import ABC, abstractmethod \n",
    "\n",
    "\n",
    "class A(ABC): \n",
    "\n",
    "    def B(self): \n",
    "        pass\n",
    "\n",
    "class C(A): \n",
    "\n",
    "    def B(self): \n",
    "        print(\"Hello1\") \n",
    "\n",
    "class D(A): \n",
    "\n",
    "    def B(self): \n",
    "        print(\"Hello2\") \n",
    "\n",
    "class E(A): \n",
    "\n",
    "    def B(self): \n",
    "         print(\"Hello3\") \n",
    "\n",
    "class F(A): \n",
    "\n",
    "    def B(self): \n",
    "        print(\"Hello4\") \n",
    "\n",
    "\n",
    "R = C() \n",
    "R.B() \n",
    "\n",
    "K = F() \n",
    "K.B() \n",
    "\n",
    "R = E() \n",
    "R.B() \n",
    "\n",
    "K = F() \n",
    "K.B() \n"
   ]
  },
  {
   "cell_type": "code",
   "execution_count": null,
   "id": "f1229503",
   "metadata": {},
   "outputs": [],
   "source": []
  }
 ],
 "metadata": {
  "kernelspec": {
   "display_name": "Python 3 (ipykernel)",
   "language": "python",
   "name": "python3"
  },
  "language_info": {
   "codemirror_mode": {
    "name": "ipython",
    "version": 3
   },
   "file_extension": ".py",
   "mimetype": "text/x-python",
   "name": "python",
   "nbconvert_exporter": "python",
   "pygments_lexer": "ipython3",
   "version": "3.9.12"
  }
 },
 "nbformat": 4,
 "nbformat_minor": 5
}
