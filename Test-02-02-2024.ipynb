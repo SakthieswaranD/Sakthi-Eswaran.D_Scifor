{
 "cells": [
  {
   "cell_type": "markdown",
   "id": "c667176a",
   "metadata": {},
   "source": [
    "1.What you understand by Text Processing? Write a code to perform text processing?\n",
    "Text Processing is an essential task in NLP as it helps to clean and transform raw data into a suitable format used for analysis or modeling.\n",
    "\n",
    "from nltk.tokenize import word_tokenize\n",
    "text = \"This is a sample sentence and we are going\"\n",
    "word_tokenize(text)"
   ]
  },
  {
   "cell_type": "markdown",
   "id": "17d9b3ce",
   "metadata": {},
   "source": [
    "2.What you understand by NLP toolkit and spacy library? Write a code in which any one gets used.\n",
    "\n",
    "Nlp toolkit a machine learning technology that gives computers the ability to interpret, manipulate, and comprehend human language.\n",
    "\n",
    "spacy can be used to build information extraction or natural language understanding systems, or to pre-process text for deep learning.\n",
    "\n",
    "from nltk.tokenize import word_tokenize\n",
    "text = \"This is a sample sentence and we are going\"\n",
    "word_tokenize(text)\n"
   ]
  },
  {
   "cell_type": "markdown",
   "id": "20567ed4",
   "metadata": {},
   "source": [
    "3. Describe Neural Networks and Deep Learning in Depth \n",
    "\n",
    "A neural network is a method in artificial intelligence that teaches computers to process data in a way that is inspired by the human brain. It is a type of machine learning process, called deep learning, that uses interconnected nodes or neurons in a layered structure that resembles the human brain."
   ]
  },
  {
   "cell_type": "markdown",
   "id": "cde7be6c",
   "metadata": {},
   "source": [
    "4.what you understand by Hyperparameter Tuning?\n",
    "Hyperparameter tuning consists of finding a set of optimal hyperparameter values for a learning algorithm while applying this optimized algorithm to any data set. That combination of hyperparameters maximizes the model's performance, minimizing a predefined loss function to produce better results with fewer errors"
   ]
  },
  {
   "cell_type": "markdown",
   "id": "bd0a15e3",
   "metadata": {},
   "source": [
    "5.What you understand by Ensemble Learning?\n",
    "Ensemble learning is an approach in which two or more models are fitted to the same data, and the predictions of each model are combined. Ensemble learning aims to achieve better performance with the ensemble of models than with any individual model."
   ]
  },
  {
   "cell_type": "markdown",
   "id": "6b5429f6",
   "metadata": {},
   "source": [
    "6.What do you understand by Model Evaluation and Selection ?\n",
    "\n",
    "Model evaluation is the process of using different evaluation metrics to understand a machine learning model's performance, as well as its strengths and weaknesses. Model evaluation is important to assess the efficacy of a model during initial research phases, and it also plays a role in model monitoring.\n",
    "\n",
    "A model selection procedure is performed to select the most suitable model for the dataset. Part of the data available is used to train the predictive model and the remaining to test its accuracy. Once trained the predictive model is able to provide future forecasts of the variables under analysis."
   ]
  },
  {
   "cell_type": "markdown",
   "id": "8bf77536",
   "metadata": {},
   "source": [
    "7. What you understand by Feature Engineering and Feature selection? What is the difference between them?\n",
    "Feature engineering focuses on creating new features or transforming existing ones to make them more useful to the algorithm, while feature selection focuses on selecting the most informative subset of features from the dataset."
   ]
  }
 ],
 "metadata": {
  "kernelspec": {
   "display_name": "Python 3 (ipykernel)",
   "language": "python",
   "name": "python3"
  },
  "language_info": {
   "codemirror_mode": {
    "name": "ipython",
    "version": 3
   },
   "file_extension": ".py",
   "mimetype": "text/x-python",
   "name": "python",
   "nbconvert_exporter": "python",
   "pygments_lexer": "ipython3",
   "version": "3.9.12"
  }
 },
 "nbformat": 4,
 "nbformat_minor": 5
}
