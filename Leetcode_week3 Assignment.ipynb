{
 "cells": [
  {
   "cell_type": "code",
   "execution_count": 1,
   "id": "04ab2597",
   "metadata": {},
   "outputs": [
    {
     "name": "stdout",
     "output_type": "stream",
     "text": [
      "7\n"
     ]
    }
   ],
   "source": [
    "#58.length of last word in the string\n",
    "class Solution:\n",
    "    def lengthOfLastWord(self, s: str) -> int:\n",
    "        a=s.split()\n",
    "        return(len(a[-1]))\n",
    "A=Solution()\n",
    "print(A.lengthOfLastWord('asc sf 12334 asdefgg'))"
   ]
  },
  {
   "cell_type": "code",
   "execution_count": 2,
   "id": "bc1812e5",
   "metadata": {},
   "outputs": [
    {
     "name": "stdout",
     "output_type": "stream",
     "text": [
      "hellooo\n"
     ]
    }
   ],
   "source": [
    "#709.To Lower  Case\n",
    "class Solution:\n",
    "    def toLowerCase(self, s: str) -> str:\n",
    "        return(s.lower())\n",
    "A=Solution()\n",
    "print(A.toLowerCase('heLLOOO'))"
   ]
  },
  {
   "cell_type": "code",
   "execution_count": 3,
   "id": "191669c5",
   "metadata": {},
   "outputs": [
    {
     "name": "stdout",
     "output_type": "stream",
     "text": [
      "0\n"
     ]
    }
   ],
   "source": [
    "#682.Baseball game\n",
    "import functools \n",
    "class Solution:\n",
    "    def calPoints(self, a: list[str]) -> int:\n",
    "        b=[]\n",
    "        import functools\n",
    "        for i in a:\n",
    "            if i.isnumeric() :\n",
    "                 b.append(int(i))\n",
    "            elif list(i)[0]=='-':\n",
    "                 b.append(int(i))\n",
    "            elif i=='+':\n",
    "                 b.append(b[-1]+b[-2])\n",
    "            elif i=='C':\n",
    "                 b.remove(b[-1])\n",
    "            elif i=='D':\n",
    "                 b.append(b[-1]*2)\n",
    "            else:\n",
    "                pass\n",
    "        c=0\n",
    "        for i in b:\n",
    "            c=c+i\n",
    "        return(c)\n",
    "A=Solution()\n",
    "print(A.calPoints([\"1\",\"C\"]))\n",
    "    "
   ]
  },
  {
   "cell_type": "code",
   "execution_count": 4,
   "id": "d82857b2",
   "metadata": {},
   "outputs": [
    {
     "data": {
      "text/plain": [
       "4"
      ]
     },
     "execution_count": 4,
     "metadata": {},
     "output_type": "execute_result"
    }
   ],
   "source": [
    "a=6\n",
    "b=13\n",
    "c=0\n",
    "for i in range(a,b+1):\n",
    "    if i%2!=0:\n",
    "         c=c+1\n",
    "c"
   ]
  },
  {
   "cell_type": "code",
   "execution_count": 5,
   "id": "ebfd1d24",
   "metadata": {},
   "outputs": [
    {
     "name": "stdout",
     "output_type": "stream",
     "text": [
      "1500.0\n"
     ]
    }
   ],
   "source": [
    "#1491.Average salary excluding minimum and maximum salary\n",
    "class Solution:\n",
    "    def average(self, salary: list[int]) -> float:\n",
    "        salary.remove(min(salary))\n",
    "        salary.remove(max(salary))\n",
    "        a=((sum(salary))/len(salary))\n",
    "        return(a)\n",
    "A=Solution()\n",
    "print(A.average([100,2000,1000,2500]))\n"
   ]
  },
  {
   "cell_type": "code",
   "execution_count": 6,
   "id": "1a189d34",
   "metadata": {},
   "outputs": [
    {
     "name": "stdout",
     "output_type": "stream",
     "text": [
      "5\n"
     ]
    }
   ],
   "source": [
    "#976.Largest perimeter triangle\n",
    "class Solution:\n",
    "  def largestPerimeter(self, nums: list[int]) -> int:\n",
    "    nums = sorted(nums)\n",
    "\n",
    "    for i in range(len(nums) - 1, 1, -1):\n",
    "      if nums[i - 2] + nums[i - 1] > nums[i]:\n",
    "        return nums[i - 2] + nums[i - 1] + nums[i]\n",
    "\n",
    "    return 0\n",
    "A=Solution()\n",
    "print(A.largestPerimeter([2,1,2]))"
   ]
  },
  {
   "cell_type": "code",
   "execution_count": 7,
   "id": "51f25a9f",
   "metadata": {},
   "outputs": [
    {
     "name": "stdout",
     "output_type": "stream",
     "text": [
      "True\n"
     ]
    }
   ],
   "source": [
    "#1232.check if it is a straight line\n",
    "class Solution:\n",
    "  def checkStraightLine(self, coordinates: list[list[int]]) -> bool:\n",
    "    x0, y0, x1, y1 = *coordinates[0], *coordinates[1]\n",
    "    dx = x1 - x0\n",
    "    dy = y1 - y0\n",
    "\n",
    "    return all((x - x0) * dy == (y - y0) * dx for x, y in coordinates)\n",
    "A=Solution()\n",
    "print(A.checkStraightLine([[1,2],[2,3],[3,4],[4,5],[5,6],[6,7]]))\n",
    "    "
   ]
  },
  {
   "cell_type": "code",
   "execution_count": 8,
   "id": "a490d812",
   "metadata": {},
   "outputs": [
    {
     "name": "stdout",
     "output_type": "stream",
     "text": [
      "1001\n"
     ]
    }
   ],
   "source": [
    "#67.Add binary\n",
    "class Solution:\n",
    "    def addBinary(self, a: str, b: str) -> str:\n",
    "        add= bin(int(a, 2) + int(b, 2))\n",
    "        return((add[2:]))  \n",
    "A=Solution()\n",
    "print(A.addBinary('100','101'))"
   ]
  },
  {
   "cell_type": "code",
   "execution_count": 9,
   "id": "c08c8ab3",
   "metadata": {},
   "outputs": [
    {
     "name": "stdout",
     "output_type": "stream",
     "text": [
      "9900\n"
     ]
    }
   ],
   "source": [
    "#43.Multiply strings\n",
    "class Solution:\n",
    "    def multiply(self, num1: str, num2: str) -> str:\n",
    "        return(str(int(num1)*int(num2)))\n",
    "A=Solution()\n",
    "print(A.multiply('100','99'))\n"
   ]
  },
  {
   "cell_type": "code",
   "execution_count": 10,
   "id": "63f2f931",
   "metadata": {},
   "outputs": [
    {
     "name": "stdout",
     "output_type": "stream",
     "text": [
      "1024\n"
     ]
    }
   ],
   "source": [
    "#50.Pow(X,n)\n",
    "class Solution:\n",
    "    def myPow(self, x: float, n: int) -> float:\n",
    "             return(x**n)\n",
    "A=Solution()\n",
    "print(A.myPow(2,10))\n",
    "\n",
    "    "
   ]
  },
  {
   "cell_type": "code",
   "execution_count": 11,
   "id": "0dfd6da1",
   "metadata": {},
   "outputs": [
    {
     "name": "stdout",
     "output_type": "stream",
     "text": [
      "True\n"
     ]
    }
   ],
   "source": [
    "#860.Lemonade change\n",
    "class Solution:\n",
    "    def lemonadeChange(self, a: list[int]) -> bool:\n",
    "                f=0\n",
    "                te=0\n",
    "                tw=0\n",
    "                if a[0]>5:\n",
    "                    return(False)\n",
    "                else:    \n",
    "                    for i in a:\n",
    "                        if i==5:\n",
    "                            f=f+1\n",
    "                        elif i==10:\n",
    "                            if f<1:\n",
    "                                return(False)\n",
    "                                break\n",
    "                            else:    \n",
    "                                f=f-1\n",
    "                                te=te+1\n",
    "                        else: \n",
    "                            if te >= 1 and f >= 1:\n",
    "                                       te -= 1 \n",
    "                                       f -= 1\n",
    "                            elif f >= 3:\n",
    "                                   f -= 3\n",
    "                            else:\n",
    "                                return False\n",
    "                    else :\n",
    "                        return(True) \n",
    "A=Solution()\n",
    "print(A.lemonadeChange([5,5,5,10,20]))\n"
   ]
  },
  {
   "cell_type": "code",
   "execution_count": 12,
   "id": "4d7604cc",
   "metadata": {},
   "outputs": [
    {
     "name": "stdout",
     "output_type": "stream",
     "text": [
      "20\n"
     ]
    }
   ],
   "source": [
    "#1672.Richest customer wealth\n",
    "class Solution:\n",
    "    def maximumWealth(self, a: list[list[int]]) -> int:\n",
    "        b=[]\n",
    "        for i in a:\n",
    "                b.append(sum(i))\n",
    "        return(max(b)) \n",
    "A=Solution()\n",
    "print(A.maximumWealth([[1,2,3],[5,7,8]]))"
   ]
  },
  {
   "cell_type": "code",
   "execution_count": 13,
   "id": "37899bdb",
   "metadata": {},
   "outputs": [
    {
     "name": "stdout",
     "output_type": "stream",
     "text": [
      "8\n"
     ]
    }
   ],
   "source": [
    "#1572.Matrix diagonal sum\n",
    "class Solution:\n",
    "    def diagonalSum(self, a: list[list[int]]) -> int:\n",
    "        c=0\n",
    "        for i in range(len(a)):\n",
    "                 c=c+a[i][i]+a[i][len(a)-i-1]\n",
    "        if len(a)%2==0:\n",
    "                 return(c)\n",
    "        else:\n",
    "            return(c-a[int(len(a)/2)][int(len(a)/2)])\n",
    "A=Solution()\n",
    "print(A.diagonalSum([[1,1,1,1],\n",
    "              [1,1,1,1],\n",
    "              [1,1,1,1],\n",
    "              [1,1,1,1]]))"
   ]
  },
  {
   "cell_type": "code",
   "execution_count": 14,
   "id": "a9ac2f20",
   "metadata": {},
   "outputs": [
    {
     "name": "stdout",
     "output_type": "stream",
     "text": [
      "[1, 2, 3, 4, 8, 12, 11, 10, 9, 5, 6, 7]\n"
     ]
    }
   ],
   "source": [
    "#54.Spiral matrix\n",
    "class Solution:\n",
    "  def spiralOrder(self, matrix: list[list[int]]) -> list[int]:\n",
    "    if not matrix:\n",
    "      return []\n",
    "\n",
    "    m = len(matrix)\n",
    "    n = len(matrix[0])\n",
    "    ans = []\n",
    "    r1 = 0\n",
    "    c1 = 0\n",
    "    r2 = m - 1\n",
    "    c2 = n - 1\n",
    "\n",
    "    # Repeatedly add matrix[r1..r2][c1..c2] to `ans`.\n",
    "    while len(ans) < m * n:\n",
    "      j = c1\n",
    "      while j <= c2 and len(ans) < m * n:\n",
    "        ans.append(matrix[r1][j])\n",
    "        j += 1\n",
    "      i = r1 + 1\n",
    "      while i <= r2 - 1 and len(ans) < m * n:\n",
    "        ans.append(matrix[i][c2])\n",
    "        i += 1\n",
    "      j = c2\n",
    "      while j >= c1 and len(ans) < m * n:\n",
    "        ans.append(matrix[r2][j])\n",
    "        j -= 1\n",
    "      i = r2 - 1\n",
    "      while i >= r1 + 1 and len(ans) < m * n:\n",
    "        ans.append(matrix[i][c1])\n",
    "        i -= 1\n",
    "      r1 += 1\n",
    "      c1 += 1\n",
    "      r2 -= 1\n",
    "      c2 -= 1\n",
    "\n",
    "    return ans\n",
    "A=Solution()\n",
    "print(A.spiralOrder([[1,2,3,4],[5,6,7,8],[9,10,11,12]]))"
   ]
  },
  {
   "cell_type": "code",
   "execution_count": 15,
   "id": "2fdb3b85",
   "metadata": {},
   "outputs": [
    {
     "name": "stdout",
     "output_type": "stream",
     "text": [
      "None\n"
     ]
    }
   ],
   "source": [
    "#73.Set matrix zeroes\n",
    "class Solution:\n",
    "    def setZeroes(self, a:list[list[int]]) -> None:\n",
    "        b=[]\n",
    "        c=[]\n",
    "        for i in range(len(a)):\n",
    "            for j in range(len(a[0])):\n",
    "                if a[i][j]==0:\n",
    "                     b.append(i)\n",
    "                     c.append(j)\n",
    "        for i in b:\n",
    "            for j in range(len(a[0])):\n",
    "                a[i][j]=0\n",
    "        for i in c:\n",
    "            for j in range(len(a)):\n",
    "                a[j][i]=0\n",
    "A=Solution()\n",
    "print(A.setZeroes([[0,1,2,0],[3,4,5,2],[1,3,1,5]]))"
   ]
  },
  {
   "cell_type": "code",
   "execution_count": 16,
   "id": "671db98e",
   "metadata": {},
   "outputs": [
    {
     "name": "stdout",
     "output_type": "stream",
     "text": [
      "False\n"
     ]
    }
   ],
   "source": [
    "#657.Robot return to origin\n",
    "class Solution:\n",
    "    def judgeCircle(self, moves: str) -> bool:\n",
    "        a=list(moves)\n",
    "        if (a.count('U')==a.count('D')) and (a.count('R')==a.count('L')):\n",
    "            return(True)\n",
    "        else:\n",
    "            return(False)\n",
    "A=Solution()\n",
    "print(A.judgeCircle('UDLRD'))\n"
   ]
  },
  {
   "cell_type": "code",
   "execution_count": 17,
   "id": "3620abd7",
   "metadata": {},
   "outputs": [
    {
     "name": "stdout",
     "output_type": "stream",
     "text": [
      "A\n"
     ]
    }
   ],
   "source": [
    "#1275.Tictactoe game\n",
    "class Solution:\n",
    "  def tictactoe(self, moves: list[list[int]]) -> str:\n",
    "    row = [[0] * 3 for _ in range(2)]\n",
    "    col = [[0] * 3 for _ in range(2)]\n",
    "    diag1 = [0] * 2\n",
    "    diag2 = [0] * 2\n",
    "    i = 0\n",
    "\n",
    "    for r, c in moves:\n",
    "      row[i][r] += 1\n",
    "      col[i][c] += 1\n",
    "      diag1[i] += r == c\n",
    "      diag2[i] += r + c == 2\n",
    "      if 3 in (row[i][r], col[i][c], diag1[i], diag2[i]):\n",
    "        return \"A\" if i == 0 else \"B\"\n",
    "      i ^= 1\n",
    "\n",
    "    return \"Draw\" if len(moves) == 9 else \"Pending\"\n",
    "A=Solution()\n",
    "print(A.tictactoe([[0,0],[2,0],[1,1],[2,1],[2,2]]))"
   ]
  },
  {
   "cell_type": "code",
   "execution_count": 18,
   "id": "9b5266dd",
   "metadata": {},
   "outputs": [
    {
     "name": "stdout",
     "output_type": "stream",
     "text": [
      "True\n"
     ]
    }
   ],
   "source": [
    "#1041.Robot bounded in circle\n",
    "class Solution:\n",
    "  def isRobotBounded(self, instructions: str) -> bool:\n",
    "    x = 0\n",
    "    y = 0\n",
    "    d = 0\n",
    "    directions = [(0, 1), (1, 0), (0, -1), (-1, 0)]\n",
    "\n",
    "    for instruction in instructions:\n",
    "      if instruction == 'G':\n",
    "        x += directions[d][0]\n",
    "        y += directions[d][1]\n",
    "      elif instruction == 'L':\n",
    "        d = (d + 3) % 4\n",
    "      else:\n",
    "        d = (d + 1) % 4\n",
    "\n",
    "    return (x, y) == (0, 0) or d > 0\n",
    "A=Solution()\n",
    "print(A.isRobotBounded(\"GGLLGG\"))"
   ]
  },
  {
   "cell_type": "code",
   "execution_count": 19,
   "id": "7d591173",
   "metadata": {},
   "outputs": [
    {
     "name": "stdout",
     "output_type": "stream",
     "text": [
      "24\n"
     ]
    }
   ],
   "source": [
    "#1523.Count odd numbers in interval range\n",
    "class Solution:\n",
    "    def countOdds(self, low: int, high: int) -> int:\n",
    "        if (low%2==0) and (high%2==0):\n",
    "            return(int((high-low)/2))\n",
    "        elif (low%2!=0) and (high%2!=0):\n",
    "            return(int(((high-low)/2)+1))\n",
    "        else:\n",
    "            return(int((int((high-low)/2)+1)))\n",
    "A=Solution()\n",
    "print(A.countOdds(23,70))"
   ]
  },
  {
   "cell_type": "code",
   "execution_count": null,
   "id": "da43b318",
   "metadata": {},
   "outputs": [],
   "source": []
  }
 ],
 "metadata": {
  "kernelspec": {
   "display_name": "Python 3 (ipykernel)",
   "language": "python",
   "name": "python3"
  },
  "language_info": {
   "codemirror_mode": {
    "name": "ipython",
    "version": 3
   },
   "file_extension": ".py",
   "mimetype": "text/x-python",
   "name": "python",
   "nbconvert_exporter": "python",
   "pygments_lexer": "ipython3",
   "version": "3.9.12"
  }
 },
 "nbformat": 4,
 "nbformat_minor": 5
}
